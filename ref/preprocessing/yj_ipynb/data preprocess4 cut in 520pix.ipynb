{
 "cells": [
  {
   "cell_type": "code",
   "execution_count": 1,
   "metadata": {
    "collapsed": true
   },
   "outputs": [],
   "source": [
    "import os, glob, time, math, shutil\n",
    "import numpy as np\n",
    "import pandas as pd\n",
    "import pandas.io.common\n",
    "import matplotlib.pyplot as plt\n",
    "\n",
    "%matplotlib inline\n",
    "import astropy\n",
    "from astropy.io import fits\n",
    "from astropy.stats import sigma_clipped_stats\n",
    "from scipy.optimize import curve_fit\n",
    "\n",
    "\n",
    "def LINEAR(X, A, B):\n",
    "    return A + B * X"
   ]
  },
  {
   "cell_type": "code",
   "execution_count": 25,
   "metadata": {
    "collapsed": true
   },
   "outputs": [],
   "source": [
    "stacked_no = 34\n",
    "ISIZE = 520\n",
    "HSIZE = int(ISIZE / 2)\n",
    "\n",
    "cGAN_PATH = \"E:\\\\cGAN\\\\\"\n",
    "SI_PATH = cGAN_PATH + \"1k\\\\single\\\\stack%d\\\\\" % stacked_no\n",
    "ST_PATH = cGAN_PATH + \"1k\\\\stacked\\\\stack%d\\\\\" % stacked_no\n",
    "\n",
    "g_IMG_LIST = glob.glob(SI_PATH + \"g\\\\*.fit\")\n",
    "r_IMG_LIST = glob.glob(SI_PATH + \"r\\\\*.fit\")\n",
    "i_IMG_LIST = glob.glob(SI_PATH + \"i\\\\*.fit\")\n",
    "st_IMG_LIST = glob.glob(ST_PATH + \"*.fit\")"
   ]
  },
  {
   "cell_type": "code",
   "execution_count": 12,
   "metadata": {
    "collapsed": true
   },
   "outputs": [],
   "source": [
    "ISHAPE = np.zeros(len(st_IMG_LIST) * 2).reshape(len(st_IMG_LIST), 2)\n",
    "for i in range(len(st_IMG_LIST)):\n",
    "    ISHAPE[i] = fits.open(st_IMG_LIST[i])[0].data.shape"
   ]
  },
  {
   "cell_type": "code",
   "execution_count": 59,
   "metadata": {
    "collapsed": true
   },
   "outputs": [],
   "source": [
    "col = 2\n",
    "row = 4\n",
    "IMG_LIST = i_IMG_LIST\n",
    "\n",
    "IOUT = np.zeros(len(IMG_LIST) * col * row * ISIZE * ISIZE).reshape(\n",
    "    len(IMG_LIST), col, row, ISIZE, ISIZE\n",
    ")\n",
    "for i in range(len(IMG_LIST)):\n",
    "    for j in range(col):\n",
    "        for k in range(row):\n",
    "            COLST = int((ISHAPE[i][0] - ISIZE) / (col - 1) * j)\n",
    "            ROWST = int((ISHAPE[i][1] - ISIZE) / (row - 1) * k)\n",
    "            IIN = fits.open(IMG_LIST[i])[0].data\n",
    "            IOUT[i, j, k] = IIN[COLST : COLST + ISIZE, ROWST : ROWST + ISIZE]"
   ]
  },
  {
   "cell_type": "code",
   "execution_count": 60,
   "metadata": {
    "collapsed": true
   },
   "outputs": [],
   "source": [
    "for i in range(len(IMG_LIST)):\n",
    "    for j in range(col):\n",
    "        for k in range(row):\n",
    "            fits_file = fits.PrimaryHDU(data=IOUT[i, j, k])\n",
    "            if IMG_LIST[0][-18] == \"1\" or IMG_LIST[0][-18] == \"2\":\n",
    "                fits_file.writeto(\n",
    "                    cGAN_PATH\n",
    "                    + \"512\\\\stacked\\\\stack%d\\\\%s-%02d%02d.fit\"\n",
    "                    % (stacked_no, IMG_LIST[i][-22:-4], j + 1, k + 1)\n",
    "                )\n",
    "            else:\n",
    "                fits_file.writeto(\n",
    "                    cGAN_PATH\n",
    "                    + \"512\\\\single\\\\stack%d\\\\%s\\\\%s-%02d%02d.fit\"\n",
    "                    % (stacked_no, IMG_LIST[i][-11], IMG_LIST[i][-22:-4], j + 1, k + 1)\n",
    "                )"
   ]
  },
  {
   "cell_type": "code",
   "execution_count": 41,
   "metadata": {},
   "outputs": [
    {
     "name": "stdout",
     "output_type": "stream",
     "text": [
      "520\n",
      "1176\n",
      "1390\n"
     ]
    }
   ],
   "source": [
    "print(int((ISHAPE[0][0] - ISIZE) / (2) * 0) + 520)\n",
    "print(int(ISHAPE[0][0]))\n",
    "print(int((ISHAPE[0][1] - ISIZE) / (row - 1) * 3))"
   ]
  },
  {
   "cell_type": "code",
   "execution_count": 52,
   "metadata": {},
   "outputs": [
    {
     "data": {
      "text/plain": [
       "'STA-200006-r1-0543'"
      ]
     },
     "execution_count": 52,
     "metadata": {},
     "output_type": "execute_result"
    }
   ],
   "source": [
    "IMG_LIST[0][-22:-4]"
   ]
  }
 ],
 "metadata": {
  "kernelspec": {
   "display_name": "Python 3",
   "language": "python",
   "name": "python3"
  },
  "language_info": {
   "codemirror_mode": {
    "name": "ipython",
    "version": 3
   },
   "file_extension": ".py",
   "mimetype": "text/x-python",
   "name": "python",
   "nbconvert_exporter": "python",
   "pygments_lexer": "ipython3",
   "version": "3.6.1"
  }
 },
 "nbformat": 4,
 "nbformat_minor": 2
}
