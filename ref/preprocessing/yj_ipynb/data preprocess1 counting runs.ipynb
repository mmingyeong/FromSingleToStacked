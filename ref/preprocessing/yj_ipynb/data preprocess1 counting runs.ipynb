{
 "cells": [
  {
   "cell_type": "code",
   "execution_count": 1,
   "metadata": {
    "collapsed": true
   },
   "outputs": [],
   "source": [
    "import os, glob, time, math\n",
    "import numpy as np\n",
    "import pandas as pd\n",
    "import matplotlib.pyplot as plt\n",
    "\n",
    "%matplotlib inline\n",
    "import astropy\n",
    "from astropy.io import fits\n",
    "import h5py"
   ]
  },
  {
   "cell_type": "code",
   "execution_count": 5,
   "metadata": {},
   "outputs": [
    {
     "data": {
      "text/plain": [
       "array([], dtype=float64)"
      ]
     },
     "execution_count": 5,
     "metadata": {},
     "output_type": "execute_result"
    }
   ],
   "source": [
    "np.zeros(0)"
   ]
  },
  {
   "cell_type": "code",
   "execution_count": 3,
   "metadata": {
    "scrolled": true
   },
   "outputs": [
    {
     "name": "stdout",
     "output_type": "stream",
     "text": [
      "0.00, 0.00\n",
      "0.00, 0.00\n",
      "0.00, 0.00\n",
      "0.00, 0.00\n",
      "0.00, 0.00\n",
      "0.00, 0.00\n",
      "64.02, 64.02\n",
      "95.70, 159.72\n",
      "97.76, 257.48\n",
      "96.30, 353.78\n",
      "95.05, 448.83\n",
      "89.35, 538.18\n",
      "finished\n"
     ]
    }
   ],
   "source": [
    "BAND = \"g\"\n",
    "\n",
    "h5f = h5py.File(\"D:\\\\research\\\\stacked\\\\ALL\\\\stacked_%s_info.h5\" % BAND, \"w\")\n",
    "T0 = T1 = time.time()\n",
    "# run = '206'\n",
    "# camcol = 6\n",
    "\n",
    "cnts_T = np.zeros(0)\n",
    "for run in [\"106\", \"206\"]:\n",
    "    for camcol in range(1, 7):\n",
    "        FILE_LIST = sorted(\n",
    "            glob.glob(\n",
    "                \"D:\\\\research\\\\stacked\\\\ALL\\\\%s\\\\%s\\\\*%s%d-*.fit.gz\"\n",
    "                % (run, BAND, BAND, camcol)\n",
    "            )\n",
    "        )\n",
    "        RUNS = []\n",
    "        for i in range(len(FILE_LIST)):\n",
    "            RUNS.append([])\n",
    "        for i in range(len(FILE_LIST)):\n",
    "            RUNS[i].append(fits.open(FILE_LIST[i])[0].header[18:])\n",
    "\n",
    "        cnts = np.ones(len(FILE_LIST))\n",
    "        for j in range(len(FILE_LIST)):\n",
    "            for i in range(len(RUNS[j][0]) - 1):\n",
    "                if RUNS[j][0][i + 1][5:11] != RUNS[j][0][i][5:11]:\n",
    "                    cnts[j] += 1\n",
    "        h5f.create_dataset(\"cnts_%s_cc%d\" % (run, camcol), data=cnts)\n",
    "        for i in range(len(FILE_LIST)):\n",
    "            if cnts[i] == 1:\n",
    "                print(FILE_LIST[i])\n",
    "\n",
    "        cnts_T = np.append(cnts_T, cnts)\n",
    "        print(\"%0.2f, %0.2f\" % (time.time() - T1, time.time() - T0))\n",
    "        T1 = time.time()\n",
    "\n",
    "h5f.close()\n",
    "print(\"finished\")"
   ]
  },
  {
   "cell_type": "code",
   "execution_count": 11,
   "metadata": {
    "collapsed": true
   },
   "outputs": [],
   "source": [
    "cnts_T = np.zeros(0)"
   ]
  },
  {
   "cell_type": "code",
   "execution_count": 8,
   "metadata": {
    "collapsed": true
   },
   "outputs": [],
   "source": [
    "BAND = \"r\"\n",
    "h5f = h5py.File(\"D:\\\\research\\\\stacked\\\\ALL\\\\stacked_%s_info.h5\" % BAND, \"r\")\n",
    "cnts_T = np.zeros(0)\n",
    "for run in [\"106\", \"206\"]:\n",
    "    for camcol in range(1, 7):\n",
    "        cnts = h5f[\"cnts_%s_cc%d\" % (run, camcol)][:]\n",
    "        cnts_T = np.append(cnts_T, cnts)\n",
    "h5f.close()"
   ]
  },
  {
   "cell_type": "code",
   "execution_count": 7,
   "metadata": {},
   "outputs": [
    {
     "data": {
      "text/plain": [
       "739"
      ]
     },
     "execution_count": 7,
     "metadata": {},
     "output_type": "execute_result"
    }
   ],
   "source": [
    "len(cnts)"
   ]
  },
  {
   "cell_type": "code",
   "execution_count": 9,
   "metadata": {
    "scrolled": false
   },
   "outputs": [
    {
     "name": "stdout",
     "output_type": "stream",
     "text": [
      "28.0\n"
     ]
    },
    {
     "data": {
      "text/plain": [
       "(array([  2.,   2.,   4.,   5.,   1.,   3.,   0.,   4.,   4.,   0.,   5.,\n",
       "          2.,  10.,  21.,  62., 165., 334., 398., 460., 386., 553., 862.,\n",
       "        866., 481., 511., 566., 560., 516., 466., 393., 270., 332., 281.,\n",
       "        204., 105.,  24.,   1.,   0.]),\n",
       " array([ 0.5,  1.5,  2.5,  3.5,  4.5,  5.5,  6.5,  7.5,  8.5,  9.5, 10.5,\n",
       "        11.5, 12.5, 13.5, 14.5, 15.5, 16.5, 17.5, 18.5, 19.5, 20.5, 21.5,\n",
       "        22.5, 23.5, 24.5, 25.5, 26.5, 27.5, 28.5, 29.5, 30.5, 31.5, 32.5,\n",
       "        33.5, 34.5, 35.5, 36.5, 37.5, 38.5]),\n",
       " <a list of 38 Patch objects>)"
      ]
     },
     "execution_count": 9,
     "metadata": {},
     "output_type": "execute_result"
    },
    {
     "data": {
      "image/png": "[encoded data removed]",
      "text/plain": [
       "<matplotlib.figure.Figure at 0x1dd8a8559e8>"
      ]
     },
     "metadata": {},
     "output_type": "display_data"
    }
   ],
   "source": [
    "print(cnts.max() - cnts.min() + 1)\n",
    "plt.rcParams[\"figure.figsize\"] = (10, 8)\n",
    "plt.hist(cnts_T, bins=38, range=(0.5, 38.5))\n",
    "# plt.xlim(17,35)"
   ]
  },
  {
   "cell_type": "code",
   "execution_count": 10,
   "metadata": {},
   "outputs": [
    {
     "name": "stdout",
     "output_type": "stream",
     "text": [
      "28.0\n"
     ]
    },
    {
     "data": {
      "text/plain": [
       "(array([   2.,    2.,    4.,    5.,    1.,    3.,    0.,    4.,    4.,\n",
       "           0.,    5.,    2.,   10.,   21.,   62.,  165.,  334.,  398.,\n",
       "         460.,  386.,  553.,  862.,  866.,  481.,  511.,  566.,  560.,\n",
       "         516.,  466.,  393.,  270.,  332.,  281.,  204.,  105.,   24.,\n",
       "           1.,    0.]),\n",
       " array([  0.5,   1.5,   2.5,   3.5,   4.5,   5.5,   6.5,   7.5,   8.5,\n",
       "          9.5,  10.5,  11.5,  12.5,  13.5,  14.5,  15.5,  16.5,  17.5,\n",
       "         18.5,  19.5,  20.5,  21.5,  22.5,  23.5,  24.5,  25.5,  26.5,\n",
       "         27.5,  28.5,  29.5,  30.5,  31.5,  32.5,  33.5,  34.5,  35.5,\n",
       "         36.5,  37.5,  38.5]),\n",
       " <a list of 38 Patch objects>)"
      ]
     },
     "execution_count": 10,
     "metadata": {},
     "output_type": "execute_result"
    },
    {
     "data": {
      "image/png": "[encoded data removed]",
      "text/plain": [
       "<matplotlib.figure.Figure at 0x1691fef3ef0>"
      ]
     },
     "metadata": {},
     "output_type": "display_data"
    }
   ],
   "source": [
    "print(cnts.max() - cnts.min() + 1)\n",
    "plt.rcParams[\"figure.figsize\"] = (10, 8)\n",
    "plt.hist(cnts_T, bins=38, range=(0.5, 38.5))\n",
    "# plt.xlim(17,35)"
   ]
  },
  {
   "cell_type": "code",
   "execution_count": 6,
   "metadata": {},
   "outputs": [
    {
     "data": {
      "text/plain": [
       "(0, 40)"
      ]
     },
     "execution_count": 6,
     "metadata": {},
     "output_type": "execute_result"
    },
    {
     "data": {
      "image/png": "[encoded data removed]",
      "text/plain": [
       "<matplotlib.figure.Figure at 0x1691dbdfdd8>"
      ]
     },
     "metadata": {},
     "output_type": "display_data"
    }
   ],
   "source": [
    "hist_array = plt.hist(cnts_T, bins=40, range=(-0.5, 39.5))[0]\n",
    "plt.xlim(0, 40)"
   ]
  },
  {
   "cell_type": "code",
   "execution_count": 16,
   "metadata": {},
   "outputs": [
    {
     "data": {
      "text/plain": [
       "0.0"
      ]
     },
     "execution_count": 16,
     "metadata": {},
     "output_type": "execute_result"
    }
   ],
   "source": [
    "hist_array[0]"
   ]
  },
  {
   "cell_type": "code",
   "execution_count": 5,
   "metadata": {
    "collapsed": true
   },
   "outputs": [],
   "source": [
    "B = np.linspace(0, 39, 40)"
   ]
  },
  {
   "cell_type": "code",
   "execution_count": 6,
   "metadata": {},
   "outputs": [
    {
     "name": "stdout",
     "output_type": "stream",
     "text": [
      "217911.0\n",
      "24.57273342354533\n",
      "4.957089208753997\n"
     ]
    }
   ],
   "source": [
    "C = 0\n",
    "for i in range(len(B)):\n",
    "    C += hist_array[i] * B[i]\n",
    "print(C)\n",
    "print(C / np.sum(hist_array))\n",
    "print(np.sqrt(C / np.sum(hist_array)))"
   ]
  },
  {
   "cell_type": "code",
   "execution_count": 9,
   "metadata": {},
   "outputs": [
    {
     "name": "stdout",
     "output_type": "stream",
     "text": [
      "212703.0\n",
      "24.519077809798272\n",
      "4.9516742431018494\n"
     ]
    }
   ],
   "source": [
    "C = 0\n",
    "for i in range(15, 35):\n",
    "    C += hist_array[i] * B[i]\n",
    "print(C)\n",
    "print(C / np.sum(hist_array[15:35]))\n",
    "print(np.sqrt(C / np.sum(hist_array[15:35])))"
   ]
  },
  {
   "cell_type": "code",
   "execution_count": 24,
   "metadata": {},
   "outputs": [
    {
     "name": "stdout",
     "output_type": "stream",
     "text": [
      "310\n"
     ]
    }
   ],
   "source": [
    "AAAA = 28\n",
    "BBBB = 0\n",
    "for i in range(len(cnts_T)):\n",
    "    if cnts_T[i] == AAAA:\n",
    "        BBBB += 1\n",
    "print(BBBB)"
   ]
  },
  {
   "cell_type": "code",
   "execution_count": 2,
   "metadata": {
    "collapsed": true
   },
   "outputs": [],
   "source": [
    "HDUF = fits.open(\"E:\\\\cGAN\\\\tsField-004207-2-40-0264.fit\")"
   ]
  },
  {
   "cell_type": "code",
   "execution_count": 41,
   "metadata": {
    "collapsed": true
   },
   "outputs": [],
   "source": [
    "HDUF = fits.open(\"E:\\\\cGAN\\\\tsField-200006-2-2-0294.fit\")"
   ]
  },
  {
   "cell_type": "code",
   "execution_count": 3,
   "metadata": {},
   "outputs": [
    {
     "name": "stdout",
     "output_type": "stream",
     "text": [
      "Filename: E:\\cGAN\\tsField-004207-2-40-0264.fit\n",
      "No.    Name      Ver    Type      Cards   Dimensions   Format\n",
      "  0  PRIMARY       1 PrimaryHDU      30   ()      \n",
      "  1                1 BinTableHDU    241   1R x 98C   [1J, 1J, 5D, 5D, 5D, 5D, 5D, 5D, 5D, 5D, 5D, 5D, 5D, 5D, 5D, 5D, 5D, 5D, 5D, 5D, 5D, 5D, 5D, 5D, 5D, 1J, 5J, 5E, 5E, 5E, 5E, 5E, 5E, 5E, 5E, 1J, 5E, 5E, 1J, 1J, 1J, 1J, 5J, 5E, 5E, 5E, 5E, 5E, 5E, 5E, 5E, 5E, 5E, 5E, 5E, 5E, 5J, 5J, 5J, 5E, 5E, 5E, 5E, 1J, 5J, 5E, 5E, 5E, 5E, 5E, 5E, 5J, 5E, 5E, 5E, 5E, 5E, 5E, 5E, 5E, 5E, 5E, 5E, 5E, 5E, 5J, 75E, 75E, 75E, 5E, 5E, 1E, 1E, 1J, 1J, 1J, 1J, 1J]   \n"
     ]
    }
   ],
   "source": [
    "HDUF.info()"
   ]
  },
  {
   "cell_type": "code",
   "execution_count": 4,
   "metadata": {
    "scrolled": false
   },
   "outputs": [
    {
     "data": {
      "text/plain": [
       "XTENSION= 'BINTABLE'                                                            \n",
       "BITPIX  =                    8                                                  \n",
       "NAXIS   =                    2                                                  \n",
       "NAXIS1  =                 3004                                                  \n",
       "NAXIS2  =                    1                                                  \n",
       "PCOUNT  =                    0                                                  \n",
       "GCOUNT  =                    1                                                  \n",
       "TFIELDS =                   98                                                  \n",
       "TFORM1  = '1J      '                                                            \n",
       "TTYPE1  = 'field   '                                                            \n",
       "TFORM2  = '1J      '                                                            \n",
       "TTYPE2  = 'quality '                                                            \n",
       "TFORM3  = '5D      '                                                            \n",
       "TTYPE3  = 'a       '                                                            \n",
       "TFORM4  = '5D      '                                                            \n",
       "TTYPE4  = 'b       '                                                            \n",
       "TFORM5  = '5D      '                                                            \n",
       "TTYPE5  = 'c       '                                                            \n",
       "TFORM6  = '5D      '                                                            \n",
       "TTYPE6  = 'd       '                                                            \n",
       "TFORM7  = '5D      '                                                            \n",
       "TTYPE7  = 'e       '                                                            \n",
       "TFORM8  = '5D      '                                                            \n",
       "TTYPE8  = 'f       '                                                            \n",
       "TFORM9  = '5D      '                                                            \n",
       "TTYPE9  = 'dRow0   '                                                            \n",
       "TFORM10 = '5D      '                                                            \n",
       "TTYPE10 = 'dRow1   '                                                            \n",
       "TFORM11 = '5D      '                                                            \n",
       "TTYPE11 = 'dRow2   '                                                            \n",
       "TFORM12 = '5D      '                                                            \n",
       "TTYPE12 = 'dRow3   '                                                            \n",
       "TFORM13 = '5D      '                                                            \n",
       "TTYPE13 = 'dCol0   '                                                            \n",
       "TFORM14 = '5D      '                                                            \n",
       "TTYPE14 = 'dCol1   '                                                            \n",
       "TFORM15 = '5D      '                                                            \n",
       "TTYPE15 = 'dCol2   '                                                            \n",
       "TFORM16 = '5D      '                                                            \n",
       "TTYPE16 = 'dCol3   '                                                            \n",
       "TFORM17 = '5D      '                                                            \n",
       "TTYPE17 = 'csRow   '                                                            \n",
       "TFORM18 = '5D      '                                                            \n",
       "TTYPE18 = 'csCol   '                                                            \n",
       "TFORM19 = '5D      '                                                            \n",
       "TTYPE19 = 'ccRow   '                                                            \n",
       "TFORM20 = '5D      '                                                            \n",
       "TTYPE20 = 'ccCol   '                                                            \n",
       "TFORM21 = '5D      '                                                            \n",
       "TTYPE21 = 'riCut   '                                                            \n",
       "TFORM22 = '5D      '                                                            \n",
       "TTYPE22 = 'mjd     '                                                            \n",
       "TUNIT22 = 'MJD(TAI)'                                                            \n",
       "TFORM23 = '5D      '                                                            \n",
       "TTYPE23 = 'airmass '                                                            \n",
       "TFORM24 = '5D      '                                                            \n",
       "TTYPE24 = 'muErr   '                                                            \n",
       "TUNIT24 = 'arcsec  '                                                            \n",
       "TFORM25 = '5D      '                                                            \n",
       "TTYPE25 = 'nuErr   '                                                            \n",
       "TUNIT25 = 'arcsec  '                                                            \n",
       "TFORM26 = '1J      '                                                            \n",
       "TTYPE26 = 'seqId   '                                                            \n",
       "TFORM27 = '5J      '                                                            \n",
       "TTYPE27 = 'numStars'                                                            \n",
       "TFORM28 = '5E      '                                                            \n",
       "TTYPE28 = 'aa      '                                                            \n",
       "TUNIT28 = 'mag     '                                                            \n",
       "TFORM29 = '5E      '                                                            \n",
       "TTYPE29 = 'aaErr   '                                                            \n",
       "TUNIT29 = 'mag     '                                                            \n",
       "TFORM30 = '5E      '                                                            \n",
       "TTYPE30 = 'bb      '                                                            \n",
       "TUNIT30 = 'mag     '                                                            \n",
       "TFORM31 = '5E      '                                                            \n",
       "TTYPE31 = 'bbErr   '                                                            \n",
       "TUNIT31 = 'mag     '                                                            \n",
       "TFORM32 = '5E      '                                                            \n",
       "TTYPE32 = 'cc      '                                                            \n",
       "TUNIT32 = 'mag     '                                                            \n",
       "TFORM33 = '5E      '                                                            \n",
       "TTYPE33 = 'ccErr   '                                                            \n",
       "TUNIT33 = 'mag     '                                                            \n",
       "TFORM34 = '5E      '                                                            \n",
       "TTYPE34 = 'kk      '                                                            \n",
       "TUNIT34 = 'mag     '                                                            \n",
       "TFORM35 = '5E      '                                                            \n",
       "TTYPE35 = 'kkErr   '                                                            \n",
       "TUNIT35 = 'mag     '                                                            \n",
       "TFORM36 = '1J      '                                                            \n",
       "TTYPE36 = 'frames_status'                                                       \n",
       "TFORM37 = '5E      '                                                            \n",
       "TTYPE37 = 'rowOffset'                                                           \n",
       "TUNIT37 = 'pixels  '                                                            \n",
       "TFORM38 = '5E      '                                                            \n",
       "TTYPE38 = 'colOffset'                                                           \n",
       "TUNIT38 = 'pixels  '                                                            \n",
       "TFORM39 = '1J      '                                                            \n",
       "TTYPE39 = 'nObjects'                                                            \n",
       "TFORM40 = '1J      '                                                            \n",
       "TTYPE40 = 'nChild  '                                                            \n",
       "TFORM41 = '1J      '                                                            \n",
       "TTYPE41 = 'nStars  '                                                            \n",
       "TFORM42 = '1J      '                                                            \n",
       "TTYPE42 = 'nGals   '                                                            \n",
       "TFORM43 = '5J      '                                                            \n",
       "TTYPE43 = 'saturation_level'                                                    \n",
       "TFORM44 = '5E      '                                                            \n",
       "TTYPE44 = 'neff_psf'                                                            \n",
       "TUNIT44 = 'pixels  '                                                            \n",
       "TFORM45 = '5E      '                                                            \n",
       "TTYPE45 = 'sky_psp '                                                            \n",
       "TUNIT45 = 'maggies/arcsec^2'                                                    \n",
       "TFORM46 = '5E      '                                                            \n",
       "TTYPE46 = 'sky_frames'                                                          \n",
       "TUNIT46 = 'maggies/arcsec^2'                                                    \n",
       "TFORM47 = '5E      '                                                            \n",
       "TTYPE47 = 'sky_frames_sub'                                                      \n",
       "TUNIT47 = 'maggies/arcsec^2'                                                    \n",
       "TFORM48 = '5E      '                                                            \n",
       "TTYPE48 = 'sigPix  '                                                            \n",
       "TUNIT48 = 'maggies/arcsec^2'                                                    \n",
       "TFORM49 = '5E      '                                                            \n",
       "TTYPE49 = 'deV_ap_correction'                                                   \n",
       "TFORM50 = '5E      '                                                            \n",
       "TTYPE50 = 'deV_ap_correctionErr'                                                \n",
       "TFORM51 = '5E      '                                                            \n",
       "TTYPE51 = 'exp_ap_correction'                                                   \n",
       "TFORM52 = '5E      '                                                            \n",
       "TTYPE52 = 'exp_ap_correctionErr'                                                \n",
       "TFORM53 = '5E      '                                                            \n",
       "TTYPE53 = 'deV_model_ap_correction'                                             \n",
       "TFORM54 = '5E      '                                                            \n",
       "TTYPE54 = 'deV_model_ap_correctionErr'                                          \n",
       "TFORM55 = '5E      '                                                            \n",
       "TTYPE55 = 'exp_model_ap_correction'                                             \n",
       "TFORM56 = '5E      '                                                            \n",
       "TTYPE56 = 'exp_model_ap_correctionErr'                                          \n",
       "TFORM57 = '5J      '                                                            \n",
       "TTYPE57 = 'nCR     '                                                            \n",
       "TFORM58 = '5J      '                                                            \n",
       "TTYPE58 = 'nBrightObj'                                                          \n",
       "TFORM59 = '5J      '                                                            \n",
       "TTYPE59 = 'nFaintObj'                                                           \n",
       "TFORM60 = '5E      '                                                            \n",
       "TTYPE60 = 'median_fiberColor'                                                   \n",
       "TFORM61 = '5E      '                                                            \n",
       "TTYPE61 = 'median_psfColor'                                                     \n",
       "TFORM62 = '5E      '                                                            \n",
       "TTYPE62 = 'q       '                                                            \n",
       "TFORM63 = '5E      '                                                            \n",
       "TTYPE63 = 'u       '                                                            \n",
       "TFORM64 = '1J      '                                                            \n",
       "TTYPE64 = 'psp_status'                                                          \n",
       "TFORM65 = '5J      '                                                            \n",
       "TTYPE65 = 'status  '                                                            \n",
       "TFORM66 = '5E      '                                                            \n",
       "TTYPE66 = 'sky     '                                                            \n",
       "TUNIT66 = 'maggies/arcsec^2'                                                    \n",
       "TFORM67 = '5E      '                                                            \n",
       "TTYPE67 = 'skySig  '                                                            \n",
       "TUNIT67 = 'maggies/arcsec^2'                                                    \n",
       "TFORM68 = '5E      '                                                            \n",
       "TTYPE68 = 'skyErr  '                                                            \n",
       "TUNIT68 = 'maggies/arcsec^2'                                                    \n",
       "TFORM69 = '5E      '                                                            \n",
       "TTYPE69 = 'skySlope'                                                            \n",
       "TUNIT69 = 'maggies/arcsec^2/field'                                              \n",
       "TFORM70 = '5E      '                                                            \n",
       "TTYPE70 = 'lbias   '                                                            \n",
       "TUNIT70 = 'ADUs x DSCALE'                                                       \n",
       "TFORM71 = '5E      '                                                            \n",
       "TTYPE71 = 'rbias   '                                                            \n",
       "TUNIT71 = 'ADUs x DSCALE'                                                       \n",
       "TFORM72 = '5J      '                                                            \n",
       "TTYPE72 = 'psf_nstar'                                                           \n",
       "TFORM73 = '5E      '                                                            \n",
       "TTYPE73 = 'psf_ap_correctionErr'                                                \n",
       "TUNIT73 = 'mags    '                                                            \n",
       "TFORM74 = '5E      '                                                            \n",
       "TTYPE74 = 'psf_sigma1'                                                          \n",
       "TUNIT74 = 'arcsec  '                                                            \n",
       "TFORM75 = '5E      '                                                            \n",
       "TTYPE75 = 'psf_sigma2'                                                          \n",
       "TUNIT75 = 'arcsec  '                                                            \n",
       "TFORM76 = '5E      '                                                            \n",
       "TTYPE76 = 'psf_b   '                                                            \n",
       "TFORM77 = '5E      '                                                            \n",
       "TTYPE77 = 'psf_p0  '                                                            \n",
       "TFORM78 = '5E      '                                                            \n",
       "TTYPE78 = 'psf_beta'                                                            \n",
       "TFORM79 = '5E      '                                                            \n",
       "TTYPE79 = 'psf_sigmap'                                                          \n",
       "TFORM80 = '5E      '                                                            \n",
       "TTYPE80 = 'psf_width'                                                           \n",
       "TUNIT80 = 'arcsec  '                                                            \n",
       "TFORM81 = '5E      '                                                            \n",
       "TTYPE81 = 'psf_psfCounts'                                                       \n",
       "TUNIT81 = 'counts  '                                                            \n",
       "TFORM82 = '5E      '                                                            \n",
       "TTYPE82 = 'psf_sigma1_2G'                                                       \n",
       "TUNIT82 = 'pixels  '                                                            \n",
       "TFORM83 = '5E      '                                                            \n",
       "TTYPE83 = 'psf_sigma2_2G'                                                       \n",
       "TUNIT83 = 'pixels  '                                                            \n",
       "TFORM84 = '5E      '                                                            \n",
       "TTYPE84 = 'psf_b_2G'                                                            \n",
       "TFORM85 = '5E      '                                                            \n",
       "TTYPE85 = 'psfCounts'                                                           \n",
       "TFORM86 = '5J      '                                                            \n",
       "TTYPE86 = 'prof_nprof'                                                          \n",
       "TFORM87 = '75E     '                                                            \n",
       "TDIM87  = '(15,5)  '                                                            \n",
       "TTYPE87 = 'prof_mean'                                                           \n",
       "TFORM88 = '75E     '                                                            \n",
       "TDIM88  = '(15,5)  '                                                            \n",
       "TTYPE88 = 'prof_med'                                                            \n",
       "TFORM89 = '75E     '                                                            \n",
       "TDIM89  = '(15,5)  '                                                            \n",
       "TTYPE89 = 'prof_sig'                                                            \n",
       "TFORM90 = '5E      '                                                            \n",
       "TTYPE90 = 'gain    '                                                            \n",
       "TUNIT90 = 'electrons/DN'                                                        \n",
       "TFORM91 = '5E      '                                                            \n",
       "TTYPE91 = 'dark_variance'                                                       \n",
       "TFORM92 = '1E      '                                                            \n",
       "TTYPE92 = 'scanlineArea'                                                        \n",
       "TUNIT92 = 'deg^2   '                                                            \n",
       "TFORM93 = '1E      '                                                            \n",
       "TTYPE93 = 'stripeArea'                                                          \n",
       "TUNIT93 = 'deg^2   '                                                            \n",
       "TFORM94 = '1J      '                                                            \n",
       "TTYPE94 = 'culled  '                                                            \n",
       "TFORM95 = '1J      '                                                            \n",
       "TTYPE95 = 'badMask '                                                            \n",
       "TFORM96 = '1J      '                                                            \n",
       "TTYPE96 = 'acceptableMask'                                                      \n",
       "TFORM97 = '1J      '                                                            \n",
       "TTYPE97 = 'goodMask'                                                            \n",
       "TFORM98 = '1J      '                                                            \n",
       "TTYPE98 = 'holeMask'                                                            "
      ]
     },
     "execution_count": 4,
     "metadata": {},
     "output_type": "execute_result"
    }
   ],
   "source": [
    "HDUF[1].header"
   ]
  },
  {
   "cell_type": "code",
   "execution_count": 3,
   "metadata": {},
   "outputs": [
    {
     "data": {
      "text/plain": [
       "array([-23.835411, -24.437168, -24.039036, -23.626959, -21.94777 ],\n",
       "      dtype=float32)"
      ]
     },
     "execution_count": 3,
     "metadata": {},
     "output_type": "execute_result"
    }
   ],
   "source": [
    "HDUF[1].data[0][27]"
   ]
  },
  {
   "cell_type": "code",
   "execution_count": 46,
   "metadata": {
    "collapsed": true
   },
   "outputs": [],
   "source": [
    "HDUF = fits.open(\"E:\\\\cGAN\\\\asTrans-004207.fit\")"
   ]
  },
  {
   "cell_type": "code",
   "execution_count": 66,
   "metadata": {
    "scrolled": true
   },
   "outputs": [
    {
     "name": "stdout",
     "output_type": "stream",
     "text": [
      "Filename: E:\\cGAN\\asTrans-004207.fit\n",
      "No.    Name      Ver    Type      Cards   Dimensions   Format\n",
      "  0  PRIMARY       1 PrimaryHDU      25   ()      \n",
      "  1                1 BinTableHDU     59   763R x 24C   ['1J', '1D', '1D', '1D', '1D', '1D', '1D', '1D', '1D', '1D', '1D', '1D', '1D', '1D', '1D', '1D', '1D', '1D', '1D', '1D', '1D', '1D', '1E', '1E']   \n",
      "  2                1 BinTableHDU     59   763R x 24C   ['1J', '1D', '1D', '1D', '1D', '1D', '1D', '1D', '1D', '1D', '1D', '1D', '1D', '1D', '1D', '1D', '1D', '1D', '1D', '1D', '1D', '1D', '1E', '1E']   \n",
      "  3                1 BinTableHDU     59   763R x 24C   [1J, 1D, 1D, 1D, 1D, 1D, 1D, 1D, 1D, 1D, 1D, 1D, 1D, 1D, 1D, 1D, 1D, 1D, 1D, 1D, 1D, 1D, 1E, 1E]   \n",
      "  4                1 BinTableHDU     59   763R x 24C   [1J, 1D, 1D, 1D, 1D, 1D, 1D, 1D, 1D, 1D, 1D, 1D, 1D, 1D, 1D, 1D, 1D, 1D, 1D, 1D, 1D, 1D, 1E, 1E]   \n",
      "  5                1 BinTableHDU     59   763R x 24C   [1J, 1D, 1D, 1D, 1D, 1D, 1D, 1D, 1D, 1D, 1D, 1D, 1D, 1D, 1D, 1D, 1D, 1D, 1D, 1D, 1D, 1D, 1E, 1E]   \n",
      "  6                1 BinTableHDU     59   763R x 24C   [1J, 1D, 1D, 1D, 1D, 1D, 1D, 1D, 1D, 1D, 1D, 1D, 1D, 1D, 1D, 1D, 1D, 1D, 1D, 1D, 1D, 1D, 1E, 1E]   \n",
      "  7                1 BinTableHDU     59   763R x 24C   [1J, 1D, 1D, 1D, 1D, 1D, 1D, 1D, 1D, 1D, 1D, 1D, 1D, 1D, 1D, 1D, 1D, 1D, 1D, 1D, 1D, 1D, 1E, 1E]   \n",
      "  8                1 BinTableHDU     59   763R x 24C   [1J, 1D, 1D, 1D, 1D, 1D, 1D, 1D, 1D, 1D, 1D, 1D, 1D, 1D, 1D, 1D, 1D, 1D, 1D, 1D, 1D, 1D, 1E, 1E]   \n",
      "  9                1 BinTableHDU     59   763R x 24C   ['1J', '1D', '1D', '1D', '1D', '1D', '1D', '1D', '1D', '1D', '1D', '1D', '1D', '1D', '1D', '1D', '1D', '1D', '1D', '1D', '1D', '1D', '1E', '1E']   \n",
      " 10                1 BinTableHDU     59   763R x 24C   ['1J', '1D', '1D', '1D', '1D', '1D', '1D', '1D', '1D', '1D', '1D', '1D', '1D', '1D', '1D', '1D', '1D', '1D', '1D', '1D', '1D', '1D', '1E', '1E']   \n",
      " 11                1 BinTableHDU     59   763R x 24C   ['1J', '1D', '1D', '1D', '1D', '1D', '1D', '1D', '1D', '1D', '1D', '1D', '1D', '1D', '1D', '1D', '1D', '1D', '1D', '1D', '1D', '1D', '1E', '1E']   \n",
      " 12                1 BinTableHDU     59   763R x 24C   ['1J', '1D', '1D', '1D', '1D', '1D', '1D', '1D', '1D', '1D', '1D', '1D', '1D', '1D', '1D', '1D', '1D', '1D', '1D', '1D', '1D', '1D', '1E', '1E']   \n",
      " 13                1 BinTableHDU     59   763R x 24C   ['1J', '1D', '1D', '1D', '1D', '1D', '1D', '1D', '1D', '1D', '1D', '1D', '1D', '1D', '1D', '1D', '1D', '1D', '1D', '1D', '1D', '1D', '1E', '1E']   \n",
      " 14                1 BinTableHDU     59   763R x 24C   [1J, 1D, 1D, 1D, 1D, 1D, 1D, 1D, 1D, 1D, 1D, 1D, 1D, 1D, 1D, 1D, 1D, 1D, 1D, 1D, 1D, 1D, 1E, 1E]   \n",
      " 15                1 BinTableHDU     59   763R x 24C   [1J, 1D, 1D, 1D, 1D, 1D, 1D, 1D, 1D, 1D, 1D, 1D, 1D, 1D, 1D, 1D, 1D, 1D, 1D, 1D, 1D, 1D, 1E, 1E]   \n",
      " 16                1 BinTableHDU     59   763R x 24C   [1J, 1D, 1D, 1D, 1D, 1D, 1D, 1D, 1D, 1D, 1D, 1D, 1D, 1D, 1D, 1D, 1D, 1D, 1D, 1D, 1D, 1D, 1E, 1E]   \n",
      " 17                1 BinTableHDU     59   763R x 24C   [1J, 1D, 1D, 1D, 1D, 1D, 1D, 1D, 1D, 1D, 1D, 1D, 1D, 1D, 1D, 1D, 1D, 1D, 1D, 1D, 1D, 1D, 1E, 1E]   \n",
      " 18                1 BinTableHDU     59   763R x 24C   [1J, 1D, 1D, 1D, 1D, 1D, 1D, 1D, 1D, 1D, 1D, 1D, 1D, 1D, 1D, 1D, 1D, 1D, 1D, 1D, 1D, 1D, 1E, 1E]   \n",
      " 19                1 BinTableHDU     59   763R x 24C   [1J, 1D, 1D, 1D, 1D, 1D, 1D, 1D, 1D, 1D, 1D, 1D, 1D, 1D, 1D, 1D, 1D, 1D, 1D, 1D, 1D, 1D, 1E, 1E]   \n",
      " 20                1 BinTableHDU     59   763R x 24C   [1J, 1D, 1D, 1D, 1D, 1D, 1D, 1D, 1D, 1D, 1D, 1D, 1D, 1D, 1D, 1D, 1D, 1D, 1D, 1D, 1D, 1D, 1E, 1E]   \n",
      " 21                1 BinTableHDU     59   763R x 24C   [1J, 1D, 1D, 1D, 1D, 1D, 1D, 1D, 1D, 1D, 1D, 1D, 1D, 1D, 1D, 1D, 1D, 1D, 1D, 1D, 1D, 1D, 1E, 1E]   \n",
      " 22                1 BinTableHDU     59   763R x 24C   [1J, 1D, 1D, 1D, 1D, 1D, 1D, 1D, 1D, 1D, 1D, 1D, 1D, 1D, 1D, 1D, 1D, 1D, 1D, 1D, 1D, 1D, 1E, 1E]   \n",
      " 23                1 BinTableHDU     59   763R x 24C   [1J, 1D, 1D, 1D, 1D, 1D, 1D, 1D, 1D, 1D, 1D, 1D, 1D, 1D, 1D, 1D, 1D, 1D, 1D, 1D, 1D, 1D, 1E, 1E]   \n",
      " 24                1 BinTableHDU     59   763R x 24C   [1J, 1D, 1D, 1D, 1D, 1D, 1D, 1D, 1D, 1D, 1D, 1D, 1D, 1D, 1D, 1D, 1D, 1D, 1D, 1D, 1D, 1D, 1E, 1E]   \n",
      " 25                1 BinTableHDU     59   763R x 24C   ['1J', '1D', '1D', '1D', '1D', '1D', '1D', '1D', '1D', '1D', '1D', '1D', '1D', '1D', '1D', '1D', '1D', '1D', '1D', '1D', '1D', '1D', '1E', '1E']   \n",
      " 26                1 BinTableHDU     59   763R x 24C   [1J, 1D, 1D, 1D, 1D, 1D, 1D, 1D, 1D, 1D, 1D, 1D, 1D, 1D, 1D, 1D, 1D, 1D, 1D, 1D, 1D, 1D, 1E, 1E]   \n",
      " 27                1 BinTableHDU     59   763R x 24C   [1J, 1D, 1D, 1D, 1D, 1D, 1D, 1D, 1D, 1D, 1D, 1D, 1D, 1D, 1D, 1D, 1D, 1D, 1D, 1D, 1D, 1D, 1E, 1E]   \n",
      " 28                1 BinTableHDU     59   763R x 24C   [1J, 1D, 1D, 1D, 1D, 1D, 1D, 1D, 1D, 1D, 1D, 1D, 1D, 1D, 1D, 1D, 1D, 1D, 1D, 1D, 1D, 1D, 1E, 1E]   \n",
      " 29                1 BinTableHDU     59   763R x 24C   [1J, 1D, 1D, 1D, 1D, 1D, 1D, 1D, 1D, 1D, 1D, 1D, 1D, 1D, 1D, 1D, 1D, 1D, 1D, 1D, 1D, 1D, 1E, 1E]   \n",
      " 30                1 BinTableHDU     59   763R x 24C   [1J, 1D, 1D, 1D, 1D, 1D, 1D, 1D, 1D, 1D, 1D, 1D, 1D, 1D, 1D, 1D, 1D, 1D, 1D, 1D, 1D, 1D, 1E, 1E]   \n"
     ]
    }
   ],
   "source": [
    "HDUF.info()"
   ]
  },
  {
   "cell_type": "code",
   "execution_count": 75,
   "metadata": {},
   "outputs": [
    {
     "data": {
      "text/plain": [
       "XTENSION= 'BINTABLE'                                                            \n",
       "BITPIX  =                    8                                                  \n",
       "NAXIS   =                    2                                                  \n",
       "NAXIS1  =                  180                                                  \n",
       "NAXIS2  =                  763                                                  \n",
       "PCOUNT  =                    0                                                  \n",
       "GCOUNT  =                    1                                                  \n",
       "TFIELDS =                   24                                                  \n",
       "FILTER  = 'r       '                                                            \n",
       "CAMROW  =                    1                                                  \n",
       "CAMCOL  =                    2                                                  \n",
       "TFORM1  = '1J      '                                                            \n",
       "TTYPE1  = 'field   '                                                            \n",
       "TFORM2  = '1D      '                                                            \n",
       "TTYPE2  = 'a       '                                                            \n",
       "TFORM3  = '1D      '                                                            \n",
       "TTYPE3  = 'b       '                                                            \n",
       "TFORM4  = '1D      '                                                            \n",
       "TTYPE4  = 'c       '                                                            \n",
       "TFORM5  = '1D      '                                                            \n",
       "TTYPE5  = 'd       '                                                            \n",
       "TFORM6  = '1D      '                                                            \n",
       "TTYPE6  = 'e       '                                                            \n",
       "TFORM7  = '1D      '                                                            \n",
       "TTYPE7  = 'f       '                                                            \n",
       "TFORM8  = '1D      '                                                            \n",
       "TTYPE8  = 'dRow0   '                                                            \n",
       "TFORM9  = '1D      '                                                            \n",
       "TTYPE9  = 'dRow1   '                                                            \n",
       "TFORM10 = '1D      '                                                            \n",
       "TTYPE10 = 'dRow2   '                                                            \n",
       "TFORM11 = '1D      '                                                            \n",
       "TTYPE11 = 'dRow3   '                                                            \n",
       "TFORM12 = '1D      '                                                            \n",
       "TTYPE12 = 'dCol0   '                                                            \n",
       "TFORM13 = '1D      '                                                            \n",
       "TTYPE13 = 'dCol1   '                                                            \n",
       "TFORM14 = '1D      '                                                            \n",
       "TTYPE14 = 'dCol2   '                                                            \n",
       "TFORM15 = '1D      '                                                            \n",
       "TTYPE15 = 'dCol3   '                                                            \n",
       "TFORM16 = '1D      '                                                            \n",
       "TTYPE16 = 'csRow   '                                                            \n",
       "TFORM17 = '1D      '                                                            \n",
       "TTYPE17 = 'csCol   '                                                            \n",
       "TFORM18 = '1D      '                                                            \n",
       "TTYPE18 = 'ccRow   '                                                            \n",
       "TFORM19 = '1D      '                                                            \n",
       "TTYPE19 = 'ccCol   '                                                            \n",
       "TFORM20 = '1D      '                                                            \n",
       "TTYPE20 = 'riCut   '                                                            \n",
       "TFORM21 = '1D      '                                                            \n",
       "TTYPE21 = 'mjd     '                                                            \n",
       "TFORM22 = '1D      '                                                            \n",
       "TTYPE22 = 'airmass '                                                            \n",
       "TFORM23 = '1E      '                                                            \n",
       "TTYPE23 = 'muErr   '                                                            \n",
       "TFORM24 = '1E      '                                                            \n",
       "TTYPE24 = 'nuErr   '                                                            "
      ]
     },
     "execution_count": 75,
     "metadata": {},
     "output_type": "execute_result"
    }
   ],
   "source": [
    "HDUF[6].header"
   ]
  }
 ],
 "metadata": {
  "kernelspec": {
   "display_name": "Python 3",
   "language": "python",
   "name": "python3"
  },
  "language_info": {
   "codemirror_mode": {
    "name": "ipython",
    "version": 3
   },
   "file_extension": ".py",
   "mimetype": "text/x-python",
   "name": "python",
   "nbconvert_exporter": "python",
   "pygments_lexer": "ipython3",
   "version": "3.6.1"
  }
 },
 "nbformat": 4,
 "nbformat_minor": 2
}
