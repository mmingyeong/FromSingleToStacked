{
 "cells": [
  {
   "cell_type": "code",
   "execution_count": 1,
   "metadata": {
    "collapsed": true
   },
   "outputs": [],
   "source": [
    "import os, glob, time, math, shutil\n",
    "import numpy as np\n",
    "import pandas as pd\n",
    "import pandas.io.common\n",
    "import matplotlib.pyplot as plt\n",
    "%matplotlib inline\n",
    "import astropy\n",
    "from astropy.io import fits\n",
    "from astropy.stats import sigma_clipped_stats\n",
    "from scipy.optimize import curve_fit\n",
    "from sklearn.linear_model import TheilSenRegressor, RANSACRegressor\n",
    "def LINEAR(X, B):\n",
    "    return B*X\n",
    "def IMG_LOG(IMAGE):\n",
    "    a = 1000\n",
    "    return np.log(IMAGE*a+1)/np.log(a)"
   ]
  },
  {
   "cell_type": "code",
   "execution_count": 2,
   "metadata": {},
   "outputs": [
    {
     "name": "stdout",
     "output_type": "stream",
     "text": [
      "29\n",
      "175\n"
     ]
    }
   ],
   "source": [
    "stacked_no = 34\n",
    "\n",
    "#making delete list\n",
    "if stacked_no == 34:\n",
    "    delF = ['1-0573', '1-0606', '2-0579', '2-0592', '2-0606', '2-0609', '2-0612', '2-0614', '2-0682', '3-0548', '3-0569'\n",
    "            , '3-0604', '4-0550', '4-0589', '4-0592'\n",
    "            , '4-0595', '4-0612', '4-0666', '4-0674', '4-0697', '5-0589', '5-0586', '5-0604', '5-0612', '5-0656', '5-0683', '5-0697'\n",
    "            , '6-0612', '6-0617']\n",
    "    print(len(delF))    \n",
    "    print(204-len(delF))\n",
    "    \n",
    "SIST_NormF = np.zeros(3*6).reshape(3,6)\n",
    "SIST_NormF[0,0] = 3.3352685988765955   # g-band\n",
    "SIST_NormF[0,1] = 3.8186011621684126\n",
    "SIST_NormF[0,2] = 3.745866840446125\n",
    "SIST_NormF[0,3] = 3.694717372301556\n",
    "SIST_NormF[0,4] = 4.006293466645047\n",
    "SIST_NormF[0,5] = 3.831022324602731\n",
    "SIST_NormF[1,0] = 5.079505778912232    # r-band\n",
    "SIST_NormF[1,1] = 5.140171408876091\n",
    "SIST_NormF[1,2] = 5.1310723025130525\n",
    "SIST_NormF[1,3] = 5.236631702748523\n",
    "SIST_NormF[1,4] = 4.957325790847507\n",
    "SIST_NormF[1,5] = 5.210639505070301\n",
    "SIST_NormF[2,0] = 7.162752103626512    #i-band\n",
    "SIST_NormF[2,1] = 7.263528082123479\n",
    "SIST_NormF[2,2] = 6.678249889369915\n",
    "SIST_NormF[2,3] = 6.51081223805739\n",
    "SIST_NormF[2,4] = 6.956327915830884\n",
    "SIST_NormF[2,5] = 6.950627077059037"
   ]
  },
  {
   "cell_type": "code",
   "execution_count": 3,
   "metadata": {},
   "outputs": [
    {
     "data": {
      "text/plain": [
       "array([[3.3352686 , 3.81860116, 3.74586684, 3.69471737, 4.00629347,\n",
       "        3.83102232],\n",
       "       [5.07950578, 5.14017141, 5.1310723 , 5.2366317 , 4.95732579,\n",
       "        5.21063951],\n",
       "       [7.1627521 , 7.26352808, 6.67824989, 6.51081224, 6.95632792,\n",
       "        6.95062708]])"
      ]
     },
     "execution_count": 3,
     "metadata": {},
     "output_type": "execute_result"
    }
   ],
   "source": [
    "SIST_NormF"
   ]
  },
  {
   "cell_type": "code",
   "execution_count": 3,
   "metadata": {},
   "outputs": [
    {
     "name": "stdout",
     "output_type": "stream",
     "text": [
      "2377\n",
      "2401\n",
      "2447\n"
     ]
    }
   ],
   "source": [
    "\n",
    "bands = ['g', 'r', 'i']\n",
    "\n",
    "qpix = 0\n",
    "ISIZE = 260\n",
    "pix = ISIZE-(qpix*2)\n",
    "\n",
    "dellist_1 = []\n",
    "for BAND in bands:\n",
    "    if BAND == 'g':\n",
    "        band_no = 0 \n",
    "    elif BAND == 'r':\n",
    "        band_no = 1\n",
    "    elif BAND == 'i':\n",
    "        band_no = 2\n",
    "    REF_PATH = 'D:\\\\research\\\\cGAN\\\\stack%d\\\\raw\\\\'%stacked_no\n",
    "\n",
    "    LIST_STA = sorted(glob.glob(REF_PATH + 'stacked\\\\%s\\\\*.fit'%BAND))\n",
    "    LIST_SIN = sorted(glob.glob(REF_PATH + 'single\\\\%s\\\\*.fit'%BAND))\n",
    "\n",
    "    LIST_CC = []\n",
    "    for i in range(len(LIST_STA)):\n",
    "        LIST_CC.append(LIST_SIN[i][-15])\n",
    "\n",
    "    ID_STA = []\n",
    "    ID_SIN = []\n",
    "    for i in range(len(LIST_STA)):\n",
    "        ID_STA.append(LIST_STA[i][-27:])\n",
    "        ID_SIN.append(LIST_SIN[i][-27:])\n",
    "    \n",
    "    IMG_STA = np.zeros(len(LIST_STA)*pix*pix).reshape(len(LIST_STA),pix,pix)\n",
    "    IMG_SIN = np.zeros(len(LIST_SIN)*pix*pix).reshape(len(LIST_SIN),pix,pix)\n",
    "\n",
    "    for i in range(len(LIST_STA)):\n",
    "        IMG_STA[i] = fits.open(LIST_STA[i])[0].data[qpix:ISIZE-qpix, qpix:ISIZE-qpix]\n",
    "        IMG_SIN[i] = fits.open(LIST_SIN[i])[0].data[qpix:ISIZE-qpix, qpix:ISIZE-qpix]\n",
    "        \n",
    "    for i in range(len(IMG_STA)):\n",
    "        CC = int(LIST_CC[i])\n",
    "    \n",
    "        if IMG_STA[i].min()/SIST_NormF[band_no, CC-1] < -20 or IMG_STA[i].max()/SIST_NormF[band_no, CC-1] > 80000:\n",
    "            dellist_1.append(i)\n",
    "        if IMG_SIN[i].min() < -200 or IMG_SIN[i].max()> 80000:\n",
    "            dellist_1.append(i)        \n",
    "        for j in range(len(delF)):\n",
    "            if LIST_STA[i][-15:-9] == delF[j]:\n",
    "                dellist_1.append(i)\n",
    "    dellist_1 = sorted(list(set(dellist_1)))\n",
    "    print(len(dellist_1))"
   ]
  },
  {
   "cell_type": "code",
   "execution_count": 7,
   "metadata": {},
   "outputs": [
    {
     "name": "stdout",
     "output_type": "stream",
     "text": [
      "2447\n"
     ]
    }
   ],
   "source": [
    "print(len(dellist_1))"
   ]
  },
  {
   "cell_type": "code",
   "execution_count": 8,
   "metadata": {},
   "outputs": [
    {
     "name": "stdout",
     "output_type": "stream",
     "text": [
      "finished\n"
     ]
    }
   ],
   "source": [
    "\n",
    "mini = -1000/5\n",
    "maxi = 400000/5\n",
    "\n",
    "for BAND in bands:\n",
    "    if BAND == 'g':\n",
    "        band_no = 0 \n",
    "    elif BAND == 'r':\n",
    "        band_no = 1\n",
    "    elif BAND == 'i':\n",
    "        band_no = 2\n",
    "    REF_PATH = 'D:\\\\research\\\\cGAN\\\\stack%d\\\\raw\\\\'%stacked_no\n",
    "\n",
    "    LIST_STA = sorted(glob.glob(REF_PATH + 'stacked\\\\%s\\\\*.fit'%BAND))\n",
    "    LIST_SIN = sorted(glob.glob(REF_PATH + 'single\\\\%s\\\\*.fit'%BAND))\n",
    "\n",
    "    LIST_CC = []\n",
    "    for i in range(len(LIST_STA)):\n",
    "        LIST_CC.append(LIST_SIN[i][-15])\n",
    "\n",
    "    ID_STA = []\n",
    "    ID_SIN = []\n",
    "    for i in range(len(LIST_STA)):\n",
    "        ID_STA.append(LIST_STA[i][-27:])\n",
    "        ID_SIN.append(LIST_SIN[i][-27:])\n",
    "    \n",
    "    IMG_STA = np.zeros(len(LIST_STA)*pix*pix).reshape(len(LIST_STA),pix,pix)\n",
    "    IMG_SIN = np.zeros(len(LIST_SIN)*pix*pix).reshape(len(LIST_SIN),pix,pix)\n",
    "    for i in range(len(LIST_STA)):\n",
    "        IMG_STA[i] = fits.open(LIST_STA[i])[0].data[qpix:ISIZE-qpix, qpix:ISIZE-qpix]\n",
    "        IMG_SIN[i] = fits.open(LIST_SIN[i])[0].data[qpix:ISIZE-qpix, qpix:ISIZE-qpix]\n",
    "\n",
    "    ID_STA = np.delete(ID_STA, dellist_1, axis=0)\n",
    "    ID_SIN = np.delete(ID_SIN, dellist_1, axis=0)\n",
    "\n",
    "    IMG_STA = np.delete(IMG_STA, dellist_1, axis=0)\n",
    "    IMG_SIN = np.delete(IMG_SIN, dellist_1, axis=0)\n",
    "\n",
    "    LIST_CC = np.delete(LIST_CC, dellist_1, axis=0)\n",
    "\n",
    "    IMG_SIN = (IMG_SIN - mini)/(maxi-mini)\n",
    "\n",
    "    for i in range(len(IMG_STA)):\n",
    "        CC = int(LIST_CC[i])\n",
    "        IMG_STA[i] = ((IMG_STA[i]/SIST_NormF[band_no, CC-1]) - mini)/(maxi-mini)\n",
    "        \n",
    "    SEP = []\n",
    "    SEP.append(0)\n",
    "    for i in range(len(ID_STA)-1):\n",
    "        if str(ID_STA[i])[-15:-9] != str(ID_STA[i+1])[-15:-9]:\n",
    "            SEP.append(i+1)\n",
    "            #print(i+1, ID_106[i][5:8], ID_106[i+1][5:8])\n",
    "    SEP_5_test = []\n",
    "    for i in range(int(len(SEP)/5)):\n",
    "        SEP_5_test.append(SEP[5*i])\n",
    "    #SEP_5_test.append(len(ID_106)-1)\n",
    "    dellist = []\n",
    "    for i in range(len(SEP)):\n",
    "        for j in SEP_5_test:\n",
    "            if SEP[i] == j:\n",
    "                dellist.append(i)\n",
    "    SEP_5_tr = np.delete(SEP,dellist)\n",
    "    #print('test',SEP_5_test)\n",
    "    #print('tr',SEP_5_tr)\n",
    "\n",
    "    TE_STA_ID = []\n",
    "    TE_SIN_ID = []\n",
    "\n",
    "    TE_STA_IMG = []\n",
    "    TE_SIN_IMG = []\n",
    "\n",
    "    TR_STA_ID = []\n",
    "    TR_SIN_ID = []\n",
    "\n",
    "    TR_STA_IMG = []\n",
    "    TR_SIN_IMG = []\n",
    "\n",
    "    ##갯수 제한 train~12000개, test~3000개\n",
    "    SEP_5_test2, SEP_5_tr2 = [], []\n",
    "    if stacked_no == 34:\n",
    "        SEP_5_test2 = SEP_5_test\n",
    "        SEP_5_tr2 = SEP_5_tr\n",
    "\n",
    "    for j in SEP_5_test2:\n",
    "        for i in range(len(ID_STA)):\n",
    "            if str(ID_STA[i])[-15:-9] == str(ID_STA[j])[-15:-9]:\n",
    "                TE_STA_ID.append(ID_STA[i])            \n",
    "                TE_SIN_ID.append(ID_SIN[i])            \n",
    "                TE_STA_IMG.append(IMG_STA[i])            \n",
    "                TE_SIN_IMG.append(IMG_SIN[i])\n",
    "            \n",
    "    for j in SEP_5_tr2:\n",
    "        for i in range(len(ID_STA)):\n",
    "            if str(ID_STA[i])[-15:-9] == str(ID_STA[j])[-15:-9]:\n",
    "                TR_STA_ID.append(ID_STA[i])            \n",
    "                TR_SIN_ID.append(ID_SIN[i])            \n",
    "                TR_STA_IMG.append(IMG_STA[i])            \n",
    "                TR_SIN_IMG.append(IMG_SIN[i])\n",
    "    \n",
    "    pix = ISIZE\n",
    "    bnd = int(ISIZE/128)\n",
    "\n",
    "    SAVE_PATH = 'D:\\\\research\\\\cGAN\\\\stack%d\\\\'%stacked_no\n",
    "\n",
    "    for i in range(len(TE_STA_ID)):\n",
    "        fits_file = fits.PrimaryHDU(data=TE_STA_IMG[i].astype('float64').reshape(pix,pix)[bnd:pix-bnd,bnd:pix-bnd])\n",
    "        fits_file.writeto(SAVE_PATH + 'test\\\\stacked\\\\%s\\\\%s'% (BAND, TE_STA_ID[i]))\n",
    "\n",
    "    for i in range(len(TE_SIN_ID)):\n",
    "        fits_file = fits.PrimaryHDU(data=TE_SIN_IMG[i].astype('float64').reshape(pix,pix)[bnd:pix-bnd,bnd:pix-bnd])\n",
    "        fits_file.writeto(SAVE_PATH + 'test\\\\single\\\\%s\\\\%s'% (BAND, TE_SIN_ID[i]))\n",
    "\n",
    "    for i in range(len(TR_STA_ID)):\n",
    "        fits_file = fits.PrimaryHDU(data=TR_STA_IMG[i].astype('float64').reshape(pix,pix))\n",
    "        fits_file.writeto(SAVE_PATH + 'train\\\\stacked\\\\%s\\\\%s'% (BAND, TR_STA_ID[i]))\n",
    "\n",
    "    for i in range(len(TR_SIN_ID)):\n",
    "        fits_file = fits.PrimaryHDU(data=TR_SIN_IMG[i].astype('float64').reshape(pix,pix))\n",
    "        fits_file.writeto(SAVE_PATH + 'train\\\\single\\\\%s\\\\%s'% (BAND, TR_SIN_ID[i]))\n",
    "\n",
    "    del TR_STA_IMG, TR_SIN_IMG, TE_STA_IMG, TE_SIN_IMG\n",
    "print(\"finished\")"
   ]
  },
  {
   "cell_type": "code",
   "execution_count": null,
   "metadata": {
    "collapsed": true
   },
   "outputs": [],
   "source": [
    "## for r band\n",
    "\n"
   ]
  }
 ],
 "metadata": {
  "kernelspec": {
   "display_name": "Python 3",
   "language": "python",
   "name": "python3"
  },
  "language_info": {
   "codemirror_mode": {
    "name": "ipython",
    "version": 3
   },
   "file_extension": ".py",
   "mimetype": "text/x-python",
   "name": "python",
   "nbconvert_exporter": "python",
   "pygments_lexer": "ipython3",
   "version": "3.6.1"
  }
 },
 "nbformat": 4,
 "nbformat_minor": 2
}
