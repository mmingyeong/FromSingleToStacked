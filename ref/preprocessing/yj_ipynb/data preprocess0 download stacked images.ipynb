{
 "cells": [
  {
   "cell_type": "code",
   "execution_count": 10,
   "metadata": {},
   "outputs": [],
   "source": [
    "band = 'r'\n",
    "DTYPE = '106'\n",
    "for CAMCOL in range(1,7):\n",
    "    if DTYPE == '106':\n",
    "        f = open('D:\\\\research\\\\stacked\\\\ALL\\\\106\\\\%s\\\\cc%d\\\\get_%s%s_cc%d_axel.sh' % (band,CAMCOL,band,DTYPE,CAMCOL),'w')\n",
    "        for i in range(62,801):\n",
    "            f.write('axel -a -n 2 http://das.sdss.org/raw/100006/2/corr/%d/fpC-100006-%s%d-%04d.fit.gz\\n' % (CAMCOL, band,CAMCOL, i))\n",
    "        f.close()\n",
    "    elif DTYPE == '206':\n",
    "        f = open('D:\\\\research\\\\stacked\\\\ALL\\\\206\\\\%s\\\\cc%d\\\\get_%s%s_cc%d_axel.sh' % (band,CAMCOL,band,DTYPE,CAMCOL),'w')\n",
    "        f.write('wget -a -n 2')\n",
    "        for i in range(62,801):\n",
    "            \n",
    "            f.write(' http://das.sdss.org/raw/200006/2/corr/%d/fpC-200006-%s%d-%04d.fit.gz' % (CAMCOL, band,CAMCOL, i))\n",
    "        f.close()"
   ]
  }
 ],
 "metadata": {
  "kernelspec": {
   "display_name": "Python 3",
   "language": "python",
   "name": "python3"
  },
  "language_info": {
   "codemirror_mode": {
    "name": "ipython",
    "version": 3
   },
   "file_extension": ".py",
   "mimetype": "text/x-python",
   "name": "python",
   "nbconvert_exporter": "python",
   "pygments_lexer": "ipython3",
   "version": "3.6.1"
  }
 },
 "nbformat": 4,
 "nbformat_minor": 2
}
