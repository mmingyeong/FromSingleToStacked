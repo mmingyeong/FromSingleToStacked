{
 "cells": [
  {
   "cell_type": "code",
   "execution_count": 1,
   "metadata": {
    "collapsed": true
   },
   "outputs": [],
   "source": [
    "import os, glob, time, math, shutil\n",
    "import numpy as np\n",
    "import pandas as pd\n",
    "import matplotlib.pyplot as plt\n",
    "\n",
    "%matplotlib inline\n",
    "import astropy\n",
    "from astropy.io import fits"
   ]
  },
  {
   "cell_type": "code",
   "execution_count": 8,
   "metadata": {
    "collapsed": true
   },
   "outputs": [],
   "source": [
    "import pandas.io.common\n",
    "\n",
    "stacked_no = 34\n",
    "band = \"g\"\n",
    "REF_PATH = \"D:\\\\research\\\\single\\\\\"\n",
    "REF_LIST = glob.glob(REF_PATH + \"stack%d\\\\*.csv\" % stacked_no)\n",
    "\n",
    "for i in range(len(REF_LIST)):\n",
    "    REF_NS = REF_LIST[i][-11:-8]\n",
    "    REF_CC = int(REF_LIST[i][-5])\n",
    "    MOVE_LIST = []\n",
    "    try:\n",
    "        for REF_fields in pd.read_csv(REF_LIST[i], header=None).values[:, 0]:\n",
    "            MOVE_LIST.append(\n",
    "                glob.glob(\n",
    "                    \"D:\\\\research\\\\stacked\\\\ALL\\\\%s\\\\%s\\\\*%d-%04d.fit.gz\"\n",
    "                    % (REF_NS, band, REF_CC, REF_fields)\n",
    "                )\n",
    "            )\n",
    "    except pandas.io.common.EmptyDataError:\n",
    "        print(\"aaa\")\n",
    "    if len(MOVE_LIST) == 0 or len(MOVE_LIST[0]) == 0:\n",
    "        continue\n",
    "    for j in range(len(MOVE_LIST)):\n",
    "        shutil.move(\n",
    "            MOVE_LIST[j][0], \"D:\\\\research\\\\stacked\\\\stack%d\\\\%s\\\\\" % (stacked_no, band)\n",
    "        )"
   ]
  },
  {
   "cell_type": "code",
   "execution_count": 6,
   "metadata": {},
   "outputs": [
    {
     "data": {
      "text/plain": [
       "[['D:\\\\research\\\\stacked\\\\ALL\\\\206\\\\i\\\\fpC-200006-i6-0568.fit.gz'],\n",
       " ['D:\\\\research\\\\stacked\\\\ALL\\\\206\\\\i\\\\fpC-200006-i6-0574.fit.gz'],\n",
       " ['D:\\\\research\\\\stacked\\\\ALL\\\\206\\\\i\\\\fpC-200006-i6-0575.fit.gz'],\n",
       " ['D:\\\\research\\\\stacked\\\\ALL\\\\206\\\\i\\\\fpC-200006-i6-0585.fit.gz'],\n",
       " ['D:\\\\research\\\\stacked\\\\ALL\\\\206\\\\i\\\\fpC-200006-i6-0586.fit.gz'],\n",
       " ['D:\\\\research\\\\stacked\\\\ALL\\\\206\\\\i\\\\fpC-200006-i6-0587.fit.gz'],\n",
       " ['D:\\\\research\\\\stacked\\\\ALL\\\\206\\\\i\\\\fpC-200006-i6-0590.fit.gz'],\n",
       " ['D:\\\\research\\\\stacked\\\\ALL\\\\206\\\\i\\\\fpC-200006-i6-0591.fit.gz'],\n",
       " ['D:\\\\research\\\\stacked\\\\ALL\\\\206\\\\i\\\\fpC-200006-i6-0604.fit.gz'],\n",
       " ['D:\\\\research\\\\stacked\\\\ALL\\\\206\\\\i\\\\fpC-200006-i6-0605.fit.gz'],\n",
       " ['D:\\\\research\\\\stacked\\\\ALL\\\\206\\\\i\\\\fpC-200006-i6-0606.fit.gz'],\n",
       " ['D:\\\\research\\\\stacked\\\\ALL\\\\206\\\\i\\\\fpC-200006-i6-0608.fit.gz'],\n",
       " ['D:\\\\research\\\\stacked\\\\ALL\\\\206\\\\i\\\\fpC-200006-i6-0609.fit.gz'],\n",
       " ['D:\\\\research\\\\stacked\\\\ALL\\\\206\\\\i\\\\fpC-200006-i6-0642.fit.gz'],\n",
       " ['D:\\\\research\\\\stacked\\\\ALL\\\\206\\\\i\\\\fpC-200006-i6-0647.fit.gz'],\n",
       " ['D:\\\\research\\\\stacked\\\\ALL\\\\206\\\\i\\\\fpC-200006-i6-0659.fit.gz'],\n",
       " ['D:\\\\research\\\\stacked\\\\ALL\\\\206\\\\i\\\\fpC-200006-i6-0661.fit.gz'],\n",
       " ['D:\\\\research\\\\stacked\\\\ALL\\\\206\\\\i\\\\fpC-200006-i6-0665.fit.gz'],\n",
       " ['D:\\\\research\\\\stacked\\\\ALL\\\\206\\\\i\\\\fpC-200006-i6-0666.fit.gz'],\n",
       " ['D:\\\\research\\\\stacked\\\\ALL\\\\206\\\\i\\\\fpC-200006-i6-0667.fit.gz'],\n",
       " ['D:\\\\research\\\\stacked\\\\ALL\\\\206\\\\i\\\\fpC-200006-i6-0672.fit.gz'],\n",
       " ['D:\\\\research\\\\stacked\\\\ALL\\\\206\\\\i\\\\fpC-200006-i6-0673.fit.gz'],\n",
       " ['D:\\\\research\\\\stacked\\\\ALL\\\\206\\\\i\\\\fpC-200006-i6-0682.fit.gz'],\n",
       " ['D:\\\\research\\\\stacked\\\\ALL\\\\206\\\\i\\\\fpC-200006-i6-0698.fit.gz']]"
      ]
     },
     "execution_count": 6,
     "metadata": {},
     "output_type": "execute_result"
    }
   ],
   "source": [
    "MOVE_LIST"
   ]
  },
  {
   "cell_type": "code",
   "execution_count": 4,
   "metadata": {
    "collapsed": true
   },
   "outputs": [],
   "source": [
    "stacked_no = 22\n",
    "f = open(\"E:\\\\stacked\\\\stack%d\\\\down.sh\" % stacked_no, \"w\")\n",
    "\n",
    "REF_PATH = \"E:\\\\single\\\\\"\n",
    "REF_LIST = glob.glob(REF_PATH + \"stack%d\\\\*.csv\" % stacked_no)\n",
    "for i in range(len(REF_LIST)):\n",
    "    REF_NS = REF_LIST[i][-11:-8]\n",
    "    REF_CC = int(REF_LIST[i][-5])\n",
    "    if REF_NS == \"206\":\n",
    "        DOWN_LIST = []\n",
    "        try:\n",
    "            for REF_fields in pd.read_csv(REF_LIST[i], header=None).values[:, 0]:\n",
    "                DOWN_LIST.append(\"%04d.fit.gz\" % (REF_fields))\n",
    "        except pandas.io.common.EmptyDataError:\n",
    "            print(\"aaa\")\n",
    "        if len(DOWN_LIST) == 0 or len(DOWN_LIST[0]) == 0:\n",
    "            continue\n",
    "        for j in range(len(DOWN_LIST)):\n",
    "            f.write(\n",
    "                \"wget http://das.sdss.org/raw/200006/2/corr/%d/fpC-200006-r%d-%s\\n\"\n",
    "                % (REF_CC, REF_CC, DOWN_LIST[j])\n",
    "            )\n",
    "    elif REF_NS == \"106\":\n",
    "        DOWN_LIST = []\n",
    "        try:\n",
    "            for REF_fields in pd.read_csv(REF_LIST[i], header=None).values[:, 0]:\n",
    "                DOWN_LIST.append(\"%04d.fit.gz\" % (REF_fields))\n",
    "        except pandas.io.common.EmptyDataError:\n",
    "            print(\"aaa\")\n",
    "        if len(DOWN_LIST) == 0 or len(DOWN_LIST[0]) == 0:\n",
    "            continue\n",
    "        for j in range(len(DOWN_LIST)):\n",
    "            f.write(\n",
    "                \"wget http://das.sdss.org/raw/100006/2/corr/%d/fpC-100006-r%d-%s\\n\"\n",
    "                % (REF_CC, REF_CC, DOWN_LIST[j])\n",
    "            )\n",
    "\n",
    "\n",
    "f.close()"
   ]
  },
  {
   "cell_type": "code",
   "execution_count": 54,
   "metadata": {},
   "outputs": [
    {
     "data": {
      "text/plain": [
       "'0543.fit.gz'"
      ]
     },
     "execution_count": 54,
     "metadata": {},
     "output_type": "execute_result"
    }
   ],
   "source": [
    "DOWN_LIST[0]"
   ]
  }
 ],
 "metadata": {
  "kernelspec": {
   "display_name": "Python 3",
   "language": "python",
   "name": "python3"
  },
  "language_info": {
   "codemirror_mode": {
    "name": "ipython",
    "version": 3
   },
   "file_extension": ".py",
   "mimetype": "text/x-python",
   "name": "python",
   "nbconvert_exporter": "python",
   "pygments_lexer": "ipython3",
   "version": "3.6.1"
  }
 },
 "nbformat": 4,
 "nbformat_minor": 2
}
